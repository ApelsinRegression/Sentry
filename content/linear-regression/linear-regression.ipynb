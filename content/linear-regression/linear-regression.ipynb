{
 "cells": [
  {
   "cell_type": "code",
   "execution_count": 1,
   "id": "6edcfc39",
   "metadata": {
    "_cell_guid": "b1076dfc-b9ad-4769-8c92-a6c4dae69d19",
    "_uuid": "8f2839f25d086af736a60e9eeb907d3b93b6e0e5",
    "execution": {
     "iopub.execute_input": "2025-02-26T13:23:57.912628Z",
     "iopub.status.busy": "2025-02-26T13:23:57.912202Z",
     "iopub.status.idle": "2025-02-26T13:23:59.091330Z",
     "shell.execute_reply": "2025-02-26T13:23:59.090104Z"
    },
    "papermill": {
     "duration": 1.1847,
     "end_time": "2025-02-26T13:23:59.093386",
     "exception": false,
     "start_time": "2025-02-26T13:23:57.908686",
     "status": "completed"
    },
    "tags": []
   },
   "outputs": [
    {
     "ename": "ModuleNotFoundError",
     "evalue": "No module named 'pandas'",
     "output_type": "error",
     "traceback": [
      "\u001b[1;31m---------------------------------------------------------------------------\u001b[0m",
      "\u001b[1;31mModuleNotFoundError\u001b[0m                       Traceback (most recent call last)",
      "Cell \u001b[1;32mIn[1], line 1\u001b[0m\n\u001b[1;32m----> 1\u001b[0m \u001b[38;5;28;01mimport\u001b[39;00m\u001b[38;5;250m \u001b[39m\u001b[38;5;21;01mpandas\u001b[39;00m\u001b[38;5;250m \u001b[39m\u001b[38;5;28;01mas\u001b[39;00m\u001b[38;5;250m \u001b[39m\u001b[38;5;21;01mpd\u001b[39;00m\n\u001b[0;32m      2\u001b[0m \u001b[38;5;28;01mimport\u001b[39;00m\u001b[38;5;250m \u001b[39m\u001b[38;5;21;01mnumpy\u001b[39;00m\u001b[38;5;250m \u001b[39m\u001b[38;5;28;01mas\u001b[39;00m\u001b[38;5;250m \u001b[39m\u001b[38;5;21;01mnp\u001b[39;00m\n\u001b[0;32m      3\u001b[0m \u001b[38;5;28;01mimport\u001b[39;00m\u001b[38;5;250m \u001b[39m\u001b[38;5;21;01mmatplotlib\u001b[39;00m\u001b[38;5;21;01m.\u001b[39;00m\u001b[38;5;21;01mpyplot\u001b[39;00m\u001b[38;5;250m \u001b[39m\u001b[38;5;28;01mas\u001b[39;00m\u001b[38;5;250m \u001b[39m\u001b[38;5;21;01mplt\u001b[39;00m\n",
      "\u001b[1;31mModuleNotFoundError\u001b[0m: No module named 'pandas'"
     ]
    }
   ],
   "source": [
    "import pandas as pd\n",
    "import numpy as np\n",
    "import matplotlib.pyplot as plt"
   ]
  },
  {
   "cell_type": "markdown",
   "id": "ee2e9f7e",
   "metadata": {},
   "source": [
    "Today we learn Linear Regression"
   ]
  },
  {
   "cell_type": "code",
   "execution_count": null,
   "id": "707e3648",
   "metadata": {
    "execution": {
     "iopub.execute_input": "2025-02-26T13:23:59.098957Z",
     "iopub.status.busy": "2025-02-26T13:23:59.098503Z",
     "iopub.status.idle": "2025-02-26T13:23:59.431840Z",
     "shell.execute_reply": "2025-02-26T13:23:59.430900Z"
    },
    "papermill": {
     "duration": 0.337469,
     "end_time": "2025-02-26T13:23:59.433211",
     "exception": false,
     "start_time": "2025-02-26T13:23:59.095742",
     "status": "completed"
    },
    "tags": []
   },
   "outputs": [],
   "source": [
    "linear_data = pd.read_csv('data/Salary_dataset.csv')\n",
    "print(linear_data.columns)\n",
    "\n",
    "X = linear_data['YearsExperience']\n",
    "Y = linear_data['Salary']\n",
    "x = np.array(X, dtype=np.float64)\n",
    "y = np.array(Y, dtype=np.float64)\n",
    "\n",
    "plt.scatter(X, Y, label='Data Points', color='blue')\n",
    "plt.xlabel(\"Years of Experience\")\n",
    "plt.ylabel(\"Salary\")\n",
    "plt.title(\"Simple Linear Regression\")\n",
    "plt.legend()\n",
    "plt.show()"
   ]
  },
  {
   "cell_type": "markdown",
   "id": "e81f629c",
   "metadata": {},
   "source": [
    "Let's look how algorithm works - literally from scratch. \n",
    "Step by step:\n",
    "Every epochs: weights and biases are reducing by lr*dw(cost function)"
   ]
  },
  {
   "cell_type": "code",
   "execution_count": null,
   "id": "a81bdd0d",
   "metadata": {
    "execution": {
     "iopub.execute_input": "2025-02-26T13:23:59.439237Z",
     "iopub.status.busy": "2025-02-26T13:23:59.438911Z",
     "iopub.status.idle": "2025-02-26T13:23:59.444246Z",
     "shell.execute_reply": "2025-02-26T13:23:59.443103Z"
    },
    "papermill": {
     "duration": 0.010292,
     "end_time": "2025-02-26T13:23:59.445996",
     "exception": false,
     "start_time": "2025-02-26T13:23:59.435704",
     "status": "completed"
    },
    "tags": []
   },
   "outputs": [],
   "source": [
    "def Train(x, y, w=0, b=0, learning_rate=0.02, epoch=1000):\n",
    "    n = x.size\n",
    "    y_pred = w * x + b\n",
    "    print(np.sum((y_pred - y)**2)/n)\n",
    "    for i in range(epoch):\n",
    "        y_pred = w * x + b\n",
    "        dw = (1/n) * np.sum((y_pred - y) * x)\n",
    "        db = (1/n) * np.sum(y_pred - y)\n",
    "        w -= learning_rate * dw\n",
    "        b -= learning_rate * db\n",
    "    print(np.sum((y_pred - y)**2)/n)\n",
    "    return w, b"
   ]
  },
  {
   "cell_type": "code",
   "execution_count": null,
   "id": "ef6c3738",
   "metadata": {
    "execution": {
     "iopub.execute_input": "2025-02-26T13:23:59.451933Z",
     "iopub.status.busy": "2025-02-26T13:23:59.451653Z",
     "iopub.status.idle": "2025-02-26T13:23:59.466798Z",
     "shell.execute_reply": "2025-02-26T13:23:59.465696Z"
    },
    "papermill": {
     "duration": 0.019258,
     "end_time": "2025-02-26T13:23:59.468006",
     "exception": false,
     "start_time": "2025-02-26T13:23:59.448748",
     "status": "completed"
    },
    "tags": []
   },
   "outputs": [],
   "source": [
    "w = 0.\n",
    "b = 0.0\n",
    "w, b = Train(x, y, w, b)\n",
    "y_pred = x*w + b"
   ]
  },
  {
   "cell_type": "code",
   "execution_count": null,
   "id": "df49a274",
   "metadata": {
    "execution": {
     "iopub.execute_input": "2025-02-26T13:23:59.474032Z",
     "iopub.status.busy": "2025-02-26T13:23:59.473739Z",
     "iopub.status.idle": "2025-02-26T13:23:59.582131Z",
     "shell.execute_reply": "2025-02-26T13:23:59.581166Z"
    },
    "papermill": {
     "duration": 0.11269,
     "end_time": "2025-02-26T13:23:59.583284",
     "exception": false,
     "start_time": "2025-02-26T13:23:59.470594",
     "status": "completed"
    },
    "tags": []
   },
   "outputs": [],
   "source": [
    "plt.scatter(x, y, label='Original', color='blue', linestyle='-') \n",
    "plt.plot(x, y_pred, label='Predicted', color='red', linestyle='-') \n",
    "plt.show()"
   ]
  },
  {
   "cell_type": "markdown",
   "id": "efd34f0f",
   "metadata": {},
   "source": [
    "Let's look now how we can minimize mse (if it's only one feature) - using calculus"
   ]
  },
  {
   "cell_type": "code",
   "execution_count": null,
   "id": "879b0c29",
   "metadata": {
    "execution": {
     "iopub.execute_input": "2025-02-26T13:23:59.589765Z",
     "iopub.status.busy": "2025-02-26T13:23:59.589501Z",
     "iopub.status.idle": "2025-02-26T13:23:59.594201Z",
     "shell.execute_reply": "2025-02-26T13:23:59.593375Z"
    },
    "papermill": {
     "duration": 0.009515,
     "end_time": "2025-02-26T13:23:59.595625",
     "exception": false,
     "start_time": "2025-02-26T13:23:59.586110",
     "status": "completed"
    },
    "tags": []
   },
   "outputs": [],
   "source": [
    "def train_der(x, y):\n",
    "    sum_x = 0.\n",
    "    sum_y = 0.\n",
    "    sum_xy = 0.\n",
    "    sum_x2 = 0.\n",
    "    n = len(x)  \n",
    "    for i in range(n):\n",
    "        sum_x += x[i]\n",
    "        sum_y += y[i]\n",
    "        sum_xy += x[i]*y[i]\n",
    "        sum_x2 += x[i]**2\n",
    "    x_m = sum_x/n\n",
    "    y_m = sum_y/n\n",
    "    a = (sum_xy - n*x_m*y_m)/(sum_x2-n*x_m**2)\n",
    "    b = y_m - a*x_m\n",
    "    return a, b"
   ]
  },
  {
   "cell_type": "code",
   "execution_count": null,
   "id": "f13a623b",
   "metadata": {
    "execution": {
     "iopub.execute_input": "2025-02-26T13:23:59.602274Z",
     "iopub.status.busy": "2025-02-26T13:23:59.601993Z",
     "iopub.status.idle": "2025-02-26T13:23:59.704647Z",
     "shell.execute_reply": "2025-02-26T13:23:59.703244Z"
    },
    "papermill": {
     "duration": 0.108092,
     "end_time": "2025-02-26T13:23:59.706667",
     "exception": false,
     "start_time": "2025-02-26T13:23:59.598575",
     "status": "completed"
    },
    "tags": []
   },
   "outputs": [],
   "source": [
    "a, b = train_der(x, y)\n",
    "y_pred_der = a*x + b\n",
    "plt.scatter(x, y, label='Original', color='blue', linestyle='-') \n",
    "plt.plot(x, y_pred_der, label='Predicted', color='red', linestyle='-') \n",
    "plt.show()"
   ]
  }
 ],
 "metadata": {
  "kaggle": {
   "accelerator": "none",
   "dataSources": [
    {
     "datasetId": 2799910,
     "sourceId": 4832081,
     "sourceType": "datasetVersion"
    }
   ],
   "dockerImageVersionId": 30918,
   "isGpuEnabled": false,
   "isInternetEnabled": false,
   "language": "python",
   "sourceType": "notebook"
  },
  "kernelspec": {
   "display_name": "Python 3",
   "language": "python",
   "name": "python3"
  },
  "language_info": {
   "codemirror_mode": {
    "name": "ipython",
    "version": 3
   },
   "file_extension": ".py",
   "mimetype": "text/x-python",
   "name": "python",
   "nbconvert_exporter": "python",
   "pygments_lexer": "ipython3",
   "version": "3.10.0"
  },
  "papermill": {
   "default_parameters": {},
   "duration": 4.701885,
   "end_time": "2025-02-26T13:24:00.229903",
   "environment_variables": {},
   "exception": null,
   "input_path": "__notebook__.ipynb",
   "output_path": "__notebook__.ipynb",
   "parameters": {},
   "start_time": "2025-02-26T13:23:55.528018",
   "version": "2.6.0"
  }
 },
 "nbformat": 4,
 "nbformat_minor": 5
}
